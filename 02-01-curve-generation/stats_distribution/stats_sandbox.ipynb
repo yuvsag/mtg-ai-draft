{
 "cells": [
  {
   "cell_type": "code",
   "execution_count": 85,
   "metadata": {},
   "outputs": [],
   "source": [
    "import json\n",
    "from collections import Counter\n",
    "from weight_roller import WeightRoller"
   ]
  },
  {
   "cell_type": "code",
   "execution_count": 86,
   "metadata": {},
   "outputs": [],
   "source": [
    "with open('mana_curve.json') as json_file:\n",
    "    weights = json.load(json_file)"
   ]
  },
  {
   "cell_type": "code",
   "execution_count": 87,
   "metadata": {},
   "outputs": [
    {
     "data": {
      "text/plain": [
       "[(('2', 'Creature'), 243),\n",
       " (('3', 'Creature'), 210),\n",
       " (('4', 'Creature'), 134),\n",
       " (('5', 'Creature'), 123),\n",
       " (('6-10', 'Creature'), 76),\n",
       " (('3', 'Artifact'), 27),\n",
       " (('2', 'Artifact'), 21),\n",
       " (('1', 'Creature'), 17),\n",
       " (('2', 'Instant'), 16),\n",
       " (('4', 'Sorcery'), 15),\n",
       " (('5', 'Sorcery'), 12),\n",
       " (('3', 'Enchantment'), 10),\n",
       " (('4', 'Instant'), 10),\n",
       " (('5', 'Enchantment'), 10),\n",
       " (('4', 'Artifact'), 10),\n",
       " (('3', 'Instant'), 9),\n",
       " (('1', 'Instant'), 9),\n",
       " (('3', 'Sorcery'), 8),\n",
       " (('1', 'Artifact'), 8),\n",
       " (('4', 'Enchantment'), 6),\n",
       " (('2', 'Enchantment'), 5),\n",
       " (('6-10', 'Sorcery'), 4),\n",
       " (('6-10', 'Enchantment'), 4),\n",
       " (('1', 'Sorcery'), 3),\n",
       " (('2', 'Sorcery'), 3),\n",
       " (('6-10', 'Instant'), 2),\n",
       " (('5', 'Artifact'), 2),\n",
       " (('5', 'Instant'), 2),\n",
       " (('6-10', 'Artifact'), 1)]"
      ]
     },
     "execution_count": 87,
     "metadata": {},
     "output_type": "execute_result"
    }
   ],
   "source": [
    "roller = WeightRoller(weights)\n",
    "nums = [tuple(x) for x in roller.roll(1000)]\n",
    "counts = Counter(nums).most_common()\n",
    "counts"
   ]
  }
 ],
 "metadata": {
  "kernelspec": {
   "display_name": "Python 3.10.4 ('mtg')",
   "language": "python",
   "name": "python3"
  },
  "language_info": {
   "codemirror_mode": {
    "name": "ipython",
    "version": 3
   },
   "file_extension": ".py",
   "mimetype": "text/x-python",
   "name": "python",
   "nbconvert_exporter": "python",
   "pygments_lexer": "ipython3",
   "version": "3.10.4"
  },
  "orig_nbformat": 4,
  "vscode": {
   "interpreter": {
    "hash": "7fb8fd355859f9ef4ed3c45ec7a10d7f16b6a35880dc97474df4c9fea65ca814"
   }
  }
 },
 "nbformat": 4,
 "nbformat_minor": 2
}
