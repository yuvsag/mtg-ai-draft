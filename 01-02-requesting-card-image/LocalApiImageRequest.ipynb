{
 "cells": [
  {
   "cell_type": "code",
   "execution_count": null,
   "metadata": {},
   "outputs": [],
   "source": [
    "import ipywidgets as widgets\n",
    "from ipywidgets import HBox\n",
    "from dotenv import load_dotenv\n",
    "\n",
    "load_dotenv()"
   ]
  },
  {
   "cell_type": "code",
   "execution_count": null,
   "metadata": {},
   "outputs": [],
   "source": [
    "from load_card_img import ImageGenerator\n",
    "img_gen = ImageGenerator()"
   ]
  },
  {
   "cell_type": "markdown",
   "metadata": {},
   "source": [
    "check if a card was successfully generated bellow.\\\n",
    "Then you may generate the rest by going to the \\\n",
    "next cell. "
   ]
  },
  {
   "cell_type": "code",
   "execution_count": null,
   "metadata": {},
   "outputs": [],
   "source": [
    "class CardsStorage:\n",
    "    def __init__(self):\n",
    "        self.cards = None\n",
    "store = CardsStorage()"
   ]
  },
  {
   "cell_type": "code",
   "execution_count": null,
   "metadata": {},
   "outputs": [],
   "source": [
    "loadCardsBtn = widgets.Button(description=\"load sample\")\n",
    "fileLocationInput = widgets.Text(value=\"My Cards.csv\")\n",
    "cardImage = widgets.Image(\n",
    "    format='jpg',\n",
    ")\n",
    "def loadCards(b):\n",
    "    img_gen.load_cards_from_file(f\"../output/{fileLocationInput.value}\")\n",
    "    img = img_gen.generate_img(img_gen.cards[0])\n",
    "    cardImage.value = img\n",
    "loadCardsBtn.on_click(loadCards)\n",
    "display(HBox([fileLocationInput, loadCardsBtn]))\n",
    "display(cardImage)"
   ]
  },
  {
   "cell_type": "code",
   "execution_count": null,
   "metadata": {},
   "outputs": [],
   "source": [
    "def save_all(b):\n",
    "    folder_name = fileLocationInput.value[:-4:]\n",
    "    img_gen.save_all_cards(folder_name)\n",
    "saveCardsBtn = widgets.Button(description=\"save all to a folder\")\n",
    "saveCardsBtn.on_click(save_all)\n",
    "display(saveCardsBtn)"
   ]
  }
 ],
 "metadata": {
  "kernelspec": {
   "display_name": "Python 3.10.4 ('mtg')",
   "language": "python",
   "name": "python3"
  },
  "language_info": {
   "codemirror_mode": {
    "name": "ipython",
    "version": 3
   },
   "file_extension": ".py",
   "mimetype": "text/x-python",
   "name": "python",
   "nbconvert_exporter": "python",
   "pygments_lexer": "ipython3",
   "version": "3.10.4"
  },
  "orig_nbformat": 4,
  "vscode": {
   "interpreter": {
    "hash": "7fb8fd355859f9ef4ed3c45ec7a10d7f16b6a35880dc97474df4c9fea65ca814"
   }
  }
 },
 "nbformat": 4,
 "nbformat_minor": 2
}
