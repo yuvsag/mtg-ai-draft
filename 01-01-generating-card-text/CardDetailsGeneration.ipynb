{
 "cells": [
  {
   "cell_type": "code",
   "execution_count": 1,
   "metadata": {},
   "outputs": [],
   "source": [
    "#imports\n",
    "import pandas as pd\n",
    "from generate_card_text import CardTextGenerator\n",
    "import ipywidgets as widgets"
   ]
  },
  {
   "cell_type": "code",
   "execution_count": 2,
   "metadata": {},
   "outputs": [],
   "source": [
    "# pandas options for bigger grids\n",
    "pd.set_option('display.max_columns', None)  # or 1000\n",
    "pd.set_option('display.max_rows', None)  # or 1000\n",
    "pd.set_option('display.max_colwidth', None)  # or 199"
   ]
  },
  {
   "cell_type": "code",
   "execution_count": 3,
   "metadata": {},
   "outputs": [
    {
     "name": "stderr",
     "output_type": "stream",
     "text": [
      "Could not locate the tokenizer configuration file, will try to use the model config instead.\n",
      "loading file https://huggingface.co/minimaxir/magic-the-gathering/resolve/main/vocab.json from cache at None\n",
      "loading file https://huggingface.co/minimaxir/magic-the-gathering/resolve/main/merges.txt from cache at None\n",
      "loading file https://huggingface.co/minimaxir/magic-the-gathering/resolve/main/tokenizer.json from cache at aitextgen/b1431d1de2fe5eabc1480965cc002593e0a1e07de5baaabbb66474fa2b5770d8.862a5b76401704bc81e91e440c522f95164df652d01d290de56ebc2896c47a98\n",
      "loading file https://huggingface.co/minimaxir/magic-the-gathering/resolve/main/added_tokens.json from cache at None\n",
      "loading file https://huggingface.co/minimaxir/magic-the-gathering/resolve/main/special_tokens_map.json from cache at None\n",
      "loading file https://huggingface.co/minimaxir/magic-the-gathering/resolve/main/tokenizer_config.json from cache at None\n"
     ]
    }
   ],
   "source": [
    "# Download and load the model. \n",
    "ai = CardTextGenerator()"
   ]
  },
  {
   "cell_type": "code",
   "execution_count": 4,
   "metadata": {},
   "outputs": [],
   "source": [
    "class CardsStorage:\n",
    "    def __init__(self):\n",
    "        self.current_cards = None\n",
    "        self.selected_cards = pd.DataFrame(columns=\n",
    "        ['name', 'manaCost', 'type', 'power', 'toughness','loyalty','text'])\n",
    "\n",
    "store = CardsStorage()"
   ]
  },
  {
   "cell_type": "code",
   "execution_count": 5,
   "metadata": {},
   "outputs": [],
   "source": [
    "def generate_card_details(_):\n",
    "    prompt=promptInput.value\n",
    "    craziness = crazinessSlider.value\n",
    "    numOfCards = batch_size = 3\n",
    "    store.current_cards = ai.generate_card(\n",
    "    prompt,\n",
    "    craziness, \n",
    "    numOfCards,\n",
    "    batch_size)\n",
    "    cardTable.value = store.current_cards.to_html()"
   ]
  },
  {
   "cell_type": "code",
   "execution_count": 6,
   "metadata": {},
   "outputs": [],
   "source": [
    "from time import sleep\n",
    "def add_selected_card(_):\n",
    "    selected_card = store.current_cards.iloc[selectedCardInput.value - 1]\n",
    "    selected_card_as_df = pd.DataFrame.from_records([selected_card.to_dict()])\n",
    "    store.selected_cards = pd.concat([store.selected_cards, selected_card_as_df])\n",
    "    cardAddedLabel.value = \"   card added!\"\n",
    "    sleep(1)\n",
    "    cardAddedLabel.value = \"\""
   ]
  },
  {
   "cell_type": "code",
   "execution_count": 7,
   "metadata": {},
   "outputs": [],
   "source": [
    "from ipywidgets import HBox, VBox, Label, Layout\n",
    "wider = Layout(width=\"70vw\")\n",
    "less_wide = Layout(width=\"5vw\")"
   ]
  },
  {
   "cell_type": "code",
   "execution_count": 8,
   "metadata": {},
   "outputs": [],
   "source": [
    "promptInput = widgets.Text(placeholder='ex: <|type|>Creature - Goblin<|manaCost|>{2}{R}', layout=wider)\n",
    "crazinessSlider = widgets.FloatSlider(.7,min=0.5,max=1.3)\n",
    "\n",
    "generateCardsButton = widgets.Button(description=\"Generate\")\n",
    "generateCardsButton.on_click(generate_card_details)\n",
    "\n",
    "cardTable = widgets.HTML()"
   ]
  },
  {
   "cell_type": "code",
   "execution_count": 9,
   "metadata": {},
   "outputs": [],
   "source": [
    "selectedCardInput = widgets.BoundedIntText(1,min=1,max=3,layout=less_wide)\n",
    "addCardButton = widgets.Button(description=\"add to deck\")\n",
    "addCardButton.on_click(add_selected_card)\n",
    "cardAddedLabel = Label()"
   ]
  },
  {
   "cell_type": "code",
   "execution_count": 10,
   "metadata": {},
   "outputs": [
    {
     "data": {
      "application/vnd.jupyter.widget-view+json": {
       "model_id": "04e73cb4950b49b3a79f4b2e643c4a24",
       "version_major": 2,
       "version_minor": 0
      },
      "text/plain": [
       "HBox(children=(Label(value='custom card prompt:'), Text(value='', layout=Layout(width='70vw'), placeholder='ex…"
      ]
     },
     "metadata": {},
     "output_type": "display_data"
    },
    {
     "data": {
      "application/vnd.jupyter.widget-view+json": {
       "model_id": "36a6fbd120ac4354afd841183de8b1d4",
       "version_major": 2,
       "version_minor": 0
      },
      "text/plain": [
       "VBox(children=(Label(value='(prompt list: <|name|>, <|manaCost|>, <|type|>, <|text|>,'), Label(value='<|power|…"
      ]
     },
     "metadata": {},
     "output_type": "display_data"
    },
    {
     "data": {
      "application/vnd.jupyter.widget-view+json": {
       "model_id": "838219eb81814be292d723b9c38188c2",
       "version_major": 2,
       "version_minor": 0
      },
      "text/plain": [
       "HBox(children=(Label(value='craziness:'), FloatSlider(value=0.7, max=1.3, min=0.5)))"
      ]
     },
     "metadata": {},
     "output_type": "display_data"
    },
    {
     "data": {
      "application/vnd.jupyter.widget-view+json": {
       "model_id": "451652c1b47e4649bada95983d3fd96c",
       "version_major": 2,
       "version_minor": 0
      },
      "text/plain": [
       "Button(description='Generate', style=ButtonStyle())"
      ]
     },
     "metadata": {},
     "output_type": "display_data"
    },
    {
     "data": {
      "application/vnd.jupyter.widget-view+json": {
       "model_id": "a4f37a070b9c4d68beab206a689c7789",
       "version_major": 2,
       "version_minor": 0
      },
      "text/plain": [
       "HTML(value='')"
      ]
     },
     "metadata": {},
     "output_type": "display_data"
    },
    {
     "data": {
      "application/vnd.jupyter.widget-view+json": {
       "model_id": "623fe49d7fdc4e4886b35ed28c44fc29",
       "version_major": 2,
       "version_minor": 0
      },
      "text/plain": [
       "HBox(children=(BoundedIntText(value=1, layout=Layout(width='5vw'), max=3, min=1), Button(description='add to d…"
      ]
     },
     "metadata": {},
     "output_type": "display_data"
    }
   ],
   "source": [
    "display(HBox([Label(\"custom card prompt:\"), promptInput]))\n",
    "display(VBox([\n",
    "    Label(\"(prompt list: <|name|>, <|manaCost|>, <|type|>, <|text|>,\"),\n",
    "    Label(\"<|power|>, <|toughness|>, <|loyalty|>)\")\n",
    "]))\n",
    "display(HBox([Label(\"craziness:\"), crazinessSlider]))\n",
    "display(generateCardsButton)\n",
    "\n",
    "display(cardTable)\n",
    "\n",
    "display(HBox([selectedCardInput,addCardButton,cardAddedLabel]))"
   ]
  },
  {
   "cell_type": "markdown",
   "metadata": {},
   "source": [
    "Run the cell bellow again to see the cards you selected"
   ]
  },
  {
   "cell_type": "code",
   "execution_count": 11,
   "metadata": {},
   "outputs": [
    {
     "name": "stdout",
     "output_type": "stream",
     "text": [
      "your cards:\n"
     ]
    },
    {
     "data": {
      "text/html": [
       "<div>\n",
       "<style scoped>\n",
       "    .dataframe tbody tr th:only-of-type {\n",
       "        vertical-align: middle;\n",
       "    }\n",
       "\n",
       "    .dataframe tbody tr th {\n",
       "        vertical-align: top;\n",
       "    }\n",
       "\n",
       "    .dataframe thead th {\n",
       "        text-align: right;\n",
       "    }\n",
       "</style>\n",
       "<table border=\"1\" class=\"dataframe\">\n",
       "  <thead>\n",
       "    <tr style=\"text-align: right;\">\n",
       "      <th></th>\n",
       "      <th>name</th>\n",
       "      <th>manaCost</th>\n",
       "      <th>type</th>\n",
       "      <th>power</th>\n",
       "      <th>toughness</th>\n",
       "      <th>loyalty</th>\n",
       "      <th>text</th>\n",
       "    </tr>\n",
       "  </thead>\n",
       "  <tbody>\n",
       "  </tbody>\n",
       "</table>\n",
       "</div>"
      ],
      "text/plain": [
       "Empty DataFrame\n",
       "Columns: [name, manaCost, type, power, toughness, loyalty, text]\n",
       "Index: []"
      ]
     },
     "metadata": {},
     "output_type": "display_data"
    }
   ],
   "source": [
    "print(\"your cards:\")\n",
    "display(store.selected_cards)"
   ]
  },
  {
   "cell_type": "code",
   "execution_count": 12,
   "metadata": {},
   "outputs": [
    {
     "data": {
      "application/vnd.jupyter.widget-view+json": {
       "model_id": "d78e066f88644987bba328e5032476e6",
       "version_major": 2,
       "version_minor": 0
      },
      "text/plain": [
       "HBox(children=(Text(value='My Cards.csv'), Button(description='save cards', style=ButtonStyle())))"
      ]
     },
     "metadata": {},
     "output_type": "display_data"
    }
   ],
   "source": [
    "saveCardsBtn = widgets.Button(description=\"save cards\")\n",
    "fileLocationInput = widgets.Text(value=\"My Cards.csv\")\n",
    "\n",
    "def saveCards(_):\n",
    "    store.selected_cards.to_csv(f'../output/{fileLocationInput.value}')\n",
    "\n",
    "saveCardsBtn.on_click(saveCards)\n",
    "display(HBox([fileLocationInput, saveCardsBtn]))"
   ]
  }
 ],
 "metadata": {
  "kernelspec": {
   "display_name": "Python 3.10.4 ('mtg')",
   "language": "python",
   "name": "python3"
  },
  "language_info": {
   "codemirror_mode": {
    "name": "ipython",
    "version": 3
   },
   "file_extension": ".py",
   "mimetype": "text/x-python",
   "name": "python",
   "nbconvert_exporter": "python",
   "pygments_lexer": "ipython3",
   "version": "3.10.4"
  },
  "orig_nbformat": 4,
  "vscode": {
   "interpreter": {
    "hash": "7fb8fd355859f9ef4ed3c45ec7a10d7f16b6a35880dc97474df4c9fea65ca814"
   }
  }
 },
 "nbformat": 4,
 "nbformat_minor": 2
}
