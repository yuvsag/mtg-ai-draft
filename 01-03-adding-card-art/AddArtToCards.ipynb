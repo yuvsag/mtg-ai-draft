{
 "cells": [
  {
   "cell_type": "code",
   "execution_count": null,
   "metadata": {},
   "outputs": [],
   "source": [
    "import requests\n",
    "import urllib\n",
    "import io\n",
    "from PIL import Image\n",
    "import os\n",
    "from generate_card_with_art import ArtGenerator, get_card_names_from_folder\n",
    "from dotenv import load_dotenv\n",
    "\n",
    "load_dotenv()\n",
    "art_generator = ArtGenerator()"
   ]
  },
  {
   "cell_type": "code",
   "execution_count": null,
   "metadata": {},
   "outputs": [],
   "source": [
    "from time import sleep\n",
    "def generate_sample_image(card_name, file_location):\n",
    "        card_img = Image.open(file_location)\n",
    "        cardImg.value = art_generator.image_to_bytes(card_img)\n",
    "        card_art = art_generator.get_art_from_api(card_name)\n",
    "        cardImg.value = art_generator.image_to_bytes(card_art)\n",
    "        art_generator.put_art_on_card(card_img, card_art)\n",
    "        sleep(2)\n",
    "        cardImg.value = art_generator.image_to_bytes(card_img)\n",
    "\n"
   ]
  },
  {
   "cell_type": "code",
   "execution_count": null,
   "metadata": {},
   "outputs": [],
   "source": [
    "def generate_sample(_):\n",
    "    file_location, card_name = get_card_names_from_folder(folderLocationInput.value)[0]\n",
    "    generate_sample_image(card_name, file_location)\n",
    "\n",
    "def save_sample():\n",
    "    folder_name = folderLocationInput.value\n",
    "    file_location, card_name = get_card_names_from_folder(folderLocationInput.value)[0]\n",
    "    output_folder = f\"../output/{folder_name}/Final cards\"\n",
    "    os.mkdir(output_folder)\n",
    "    with open(f\"{output_folder}/{card_name}.jpg\", \"wb\") as file:\n",
    "        file.write(cardImg.value)\n",
    "    "
   ]
  },
  {
   "cell_type": "code",
   "execution_count": null,
   "metadata": {},
   "outputs": [],
   "source": [
    "import ipywidgets as widgets\n",
    "from ipywidgets import HBox, Label\n",
    "loadCardsBtn = widgets.Button(description=\"load sample\")\n",
    "loadCardsBtn.on_click(generate_sample)\n",
    "folderLocationInput = widgets.Text(value=\"My Cards\")\n",
    "\n",
    "cardImg = widgets.Image(format=\"jpg\")\n",
    "\n",
    "display(HBox([folderLocationInput, loadCardsBtn]))\n",
    "display(cardImg)"
   ]
  },
  {
   "cell_type": "code",
   "execution_count": null,
   "metadata": {},
   "outputs": [],
   "source": [
    "def save_all(_):\n",
    "    save_sample()\n",
    "    folder_name = folderLocationInput.value\n",
    "    card_images = get_card_names_from_folder(folderLocationInput.value)\n",
    "    output_folder = f\"../output/{folder_name}/Final cards\"\n",
    "    for i , (file_location, card_name) in enumerate(card_images):\n",
    "        if i == 0:\n",
    "            continue\n",
    "        final_card_img = art_generator.generate_final_image(card_name, file_location)\n",
    "        with open(f\"{output_folder}/{card_name}.jpg\", \"wb\") as file:\n",
    "            file.write(final_card_img)\n",
    "\n",
    "\n",
    "saveCardsBtn = widgets.Button(description=\"save all to a folder\")\n",
    "saveCardsBtn.on_click(save_all)\n",
    "display(saveCardsBtn)"
   ]
  }
 ],
 "metadata": {
  "kernelspec": {
   "display_name": "Python 3.10.4 ('mtg')",
   "language": "python",
   "name": "python3"
  },
  "language_info": {
   "codemirror_mode": {
    "name": "ipython",
    "version": 3
   },
   "file_extension": ".py",
   "mimetype": "text/x-python",
   "name": "python",
   "nbconvert_exporter": "python",
   "pygments_lexer": "ipython3",
   "version": "3.10.4"
  },
  "orig_nbformat": 4,
  "vscode": {
   "interpreter": {
    "hash": "7fb8fd355859f9ef4ed3c45ec7a10d7f16b6a35880dc97474df4c9fea65ca814"
   }
  }
 },
 "nbformat": 4,
 "nbformat_minor": 2
}
